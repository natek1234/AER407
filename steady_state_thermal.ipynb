{
 "cells": [
  {
   "cell_type": "markdown",
   "metadata": {},
   "source": [
    "# Steady-State Thermal Model of META\n",
    "\n",
    "Here's the setup:\n",
    "\n",
    "![](images/meta-steady-state-analysis-config.png)\n",
    "\n",
    "There's two nodes, the body (i.e. primary chassis) and the solar panels. They are assumed to be thermally isolated. The equations boil down to:\n",
    "\n",
    "$$\n",
    "Q_\\text{net} = 0 = Q_\\text{sun} + Q_\\text{ground} + Q_\\text{sky}\n",
    "$$,\n",
    "\n",
    "where\n",
    "\n",
    "$$\n",
    "\\begin{align*}\n",
    "Q_\\text{sun} &= \\alpha A G_\\text{SC} \\\\\n",
    "Q_i &= \\epsilon_i A_i \\sigma (T_i^4 - T^4)\n",
    "\\end{align*}\n",
    "$$\n",
    "\n",
    "where $G_\\text{SC}$ is the incidence solar flux at Mercury (assumed to be worst case at perihelion)."
   ]
  },
  {
   "cell_type": "code",
   "execution_count": 1,
   "metadata": {},
   "outputs": [],
   "source": [
    "from scipy.optimize import root_scalar\n",
    "\n",
    "\n",
    "def DEGC_TO_K(degC: float) -> float:\n",
    "    return degC + 273.15\n",
    "\n",
    "\n",
    "def K_TO_DEGC(K: float) -> float:\n",
    "    return K - 273.15\n",
    "\n",
    "\n",
    "SOLAR_FLUX = 14462  # [W/m^2], Maximum at perihelion\n",
    "STEF_BOLTZ = 5.6703e-8  # [W/(m^2 K^4)]\n",
    "\n",
    "# View Factors\n",
    "F_GROUND_TO_BOTTOM = 1\n",
    "F_GROUND_TO_VERT = 0.5\n",
    "F_SKY_TO_TOP = 1\n",
    "F_SKY_TO_VERT = 0.5\n"
   ]
  },
  {
   "cell_type": "code",
   "execution_count": 2,
   "metadata": {},
   "outputs": [],
   "source": [
    "# Temperatures\n",
    "T_GROUND = DEGC_TO_K(50)\n",
    "T_SKY = 3\n",
    "\n",
    "# Material Properties\n",
    "# Body\n",
    "# fmt: off\n",
    "ABSORPTIVITY_BODY_FRONT     = 0.3       # Conservative value for white paint on chassis front\n",
    "EMISSIVITY_BODY_FRONT       = 0.88      # Estimate for chassis front\n",
    "EMISSIVITY_BODY_BOTTOM      = 0.95      # Radiator on bottom\n",
    "EMISSIVITY_BODY_TOP         = 0.95      # Radiator on top\n",
    "EMISSIVITY_BODY_BACKSIDE    = 0.9       # Radiator on sides and back\n",
    "# Panels\n",
    "ABSORPTIVITY_PANEL_FRONT    = 0.8       # Picked from range of values from NASA Publication 1121\n",
    "EMISSIVITY_PANEL_FRONT      = 0.8       # Same ^\n",
    "EMISSIVITY_PANEL_BACK       = 0.95      # Radiator on back of solar panels\n",
    "EFFICIENCY_PANEL            = 0.2       # Estimate of how much absorbed energy is used for power\n",
    "# fmt: on\n",
    "\n",
    "# Body Dimensions\n",
    "X_DIM = 0.3  # [m]\n",
    "Y_DIM = 0.2  # [m]\n",
    "Z_DIM = 0.2  # [m]\n",
    "\n",
    "# Body Areas\n",
    "A_BODY_FRONT = Y_DIM * Z_DIM\n",
    "A_BODY_BOTTOM = X_DIM * Y_DIM\n",
    "A_BODY_TOP = A_BODY_BOTTOM\n",
    "A_BODY_BACKSIDE = 2 * (X_DIM * Z_DIM) + (Y_DIM * Z_DIM)\n",
    "\n",
    "\n",
    "def Q_body(T_body: float) -> float:\n",
    "    \"\"\"Calculate net power leaving body / chassis.\"\"\"\n",
    "    T_body = DEGC_TO_K(T_body)\n",
    "\n",
    "    # fmt: off\n",
    "    C_GROUND = STEF_BOLTZ * (\n",
    "        A_BODY_BOTTOM   * F_GROUND_TO_BOTTOM    * EMISSIVITY_BODY_BOTTOM    +\n",
    "        A_BODY_BACKSIDE * F_GROUND_TO_VERT      * EMISSIVITY_BODY_BACKSIDE  +\n",
    "        A_BODY_FRONT    * F_GROUND_TO_VERT      * EMISSIVITY_BODY_FRONT\n",
    "    )\n",
    "    C_SKY = STEF_BOLTZ * (\n",
    "        A_BODY_TOP      * F_SKY_TO_TOP  * EMISSIVITY_BODY_TOP       +\n",
    "        A_BODY_BACKSIDE * F_SKY_TO_VERT * EMISSIVITY_BODY_BACKSIDE  +\n",
    "        A_BODY_FRONT    * F_SKY_TO_VERT * EMISSIVITY_BODY_FRONT\n",
    "    )\n",
    "    # fmt: on\n",
    "\n",
    "    Q_sun = ABSORPTIVITY_BODY_FRONT * A_BODY_FRONT * SOLAR_FLUX\n",
    "    Q_ground = C_GROUND * (T_GROUND**4 - T_body**4)\n",
    "    Q_sky = C_SKY * (T_SKY**4 - T_body**4)\n",
    "    return Q_sun + Q_ground + Q_sky\n",
    "\n",
    "\n",
    "def Q_panels(T_panel: float, A_PANEL: float) -> float:\n",
    "    \"\"\"Calculate net power leaving solar panel assembly.\"\"\"\n",
    "    T_panel = DEGC_TO_K(T_panel)\n",
    "\n",
    "    # fmt: off\n",
    "    C_GROUND = STEF_BOLTZ * A_PANEL * F_GROUND_TO_VERT * (\n",
    "        EMISSIVITY_PANEL_FRONT + EMISSIVITY_PANEL_BACK\n",
    "    )\n",
    "    C_SKY = STEF_BOLTZ * A_PANEL * F_SKY_TO_VERT * (\n",
    "        EMISSIVITY_PANEL_FRONT + EMISSIVITY_PANEL_BACK\n",
    "    )\n",
    "    # fmt: on\n",
    "\n",
    "    Q_sun = ABSORPTIVITY_PANEL_FRONT * (1 - EFFICIENCY_PANEL) * A_PANEL * SOLAR_FLUX\n",
    "    Q_ground = C_GROUND * (T_GROUND**4 - T_panel**4)\n",
    "    Q_sky = C_SKY * (T_SKY**4 - T_panel**4)\n",
    "    return Q_sun + Q_ground + Q_sky\n"
   ]
  },
  {
   "cell_type": "code",
   "execution_count": 3,
   "metadata": {},
   "outputs": [
    {
     "name": "stdout",
     "output_type": "stream",
     "text": [
      "T_body  =   81.90 degC\n",
      "T_panel =  287.39 degC\n"
     ]
    }
   ],
   "source": [
    "# Panel Area\n",
    "A_PANEL = 2 * (0.3 * Z_DIM)\n",
    "\n",
    "T_body = root_scalar(Q_body, bracket=(-300, 1000)).root\n",
    "T_panel = root_scalar(Q_panels, args=(A_PANEL,), bracket=(-300, 1000)).root\n",
    "\n",
    "print(f\"T_body  = {T_body:>7.2f} degC\")\n",
    "print(f\"T_panel = {T_panel:>7.2f} degC\")"
   ]
  }
 ],
 "metadata": {
  "kernelspec": {
   "display_name": "Python 3.10.6 64-bit ('aer407')",
   "language": "python",
   "name": "python3"
  },
  "language_info": {
   "codemirror_mode": {
    "name": "ipython",
    "version": 3
   },
   "file_extension": ".py",
   "mimetype": "text/x-python",
   "name": "python",
   "nbconvert_exporter": "python",
   "pygments_lexer": "ipython3",
   "version": "3.10.6"
  },
  "orig_nbformat": 4,
  "vscode": {
   "interpreter": {
    "hash": "f20ee8c6c490d43c91ea91b606fad347eeaebcdcabad8d19cb2b83d728f76853"
   }
  }
 },
 "nbformat": 4,
 "nbformat_minor": 2
}
